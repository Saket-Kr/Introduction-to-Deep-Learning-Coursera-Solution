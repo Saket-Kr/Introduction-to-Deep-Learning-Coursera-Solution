{
 "cells": [
  {
   "cell_type": "markdown",
   "metadata": {},
   "source": [
    "#### 1. Choose the correct statements about MLP implementation:"
   ]
  },
  {
   "cell_type": "markdown",
   "metadata": {},
   "source": [
    "##### Ans: \n",
    "- You can write both passes of a dense layer with NumPy and make it quick even in Python\n",
    "- A forward pass of a dense layer can be done with matrix product"
   ]
  },
  {
   "cell_type": "markdown",
   "metadata": {},
   "source": [
    "#### 2. How many dimensions will a derivative of a 3-d tensor by a 4-d tensor have?"
   ]
  },
  {
   "cell_type": "markdown",
   "metadata": {},
   "source": [
    "##### Ans: 7"
   ]
  },
  {
   "cell_type": "markdown",
   "metadata": {},
   "source": [
    "#### 3. Let's play around with matrix derivatives! A trace ```Tr(X)``` of a matrix ```X``` is a sum of its diagonal elements.\n",
    "#### For example: \n",
    "```\n",
    "                    | 1 | 3 |\n",
    "            Tr =    | - | - | =1+1=2. Note that trace is a scalar!\n",
    "                    | 3 | 1 | \n",
    "```\n",
    "#### Let's find a matrix notation for ```∂Tr(X2)/∂X``` for matrix ```X=x1,1x1,2x2,1x2,2```, where ```X^2``` is a matrix product ```X⋅X```.\n",
    "\n",
    "#### Please do this element-wise and figure out a matrix notation for it:"
   ]
  },
  {
   "cell_type": "markdown",
   "metadata": {},
   "source": [
    "##### Ans: ```2X^T```"
   ]
  }
 ],
 "metadata": {
  "kernelspec": {
   "display_name": "Python 3",
   "language": "python",
   "name": "python3"
  },
  "language_info": {
   "codemirror_mode": {
    "name": "ipython",
    "version": 3
   },
   "file_extension": ".py",
   "mimetype": "text/x-python",
   "name": "python",
   "nbconvert_exporter": "python",
   "pygments_lexer": "ipython3",
   "version": "3.6.4"
  }
 },
 "nbformat": 4,
 "nbformat_minor": 2
}
